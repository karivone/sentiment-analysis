{
 "cells": [
  {
   "cell_type": "code",
   "execution_count": 1,
   "metadata": {},
   "outputs": [],
   "source": [
    "#variables that contain user creddntials to access twitter API\"s\n",
    "ACCESS_TOKEN= \"1203195236685688838-Ebuc4WU4cNrZE84PmzzqgzPGmNqtKi\"\n",
    "ACCESS_TOKEN_SECRET= \"n0TqzR54eXFrfXsGqcDx6QJGZZny2CBtJJXl25q9f2Gcj\"\n",
    "CONSUMER_KEY= \"JlHhfNaK2uE2dLGIPLlzLcRVu\"\n",
    "CONSUMER_SECRETS= \"kKgY6hp8syP0MwFdd5jI7o2iUaraXHQDLESBUwgjT4WIejdjWg\""
   ]
  },
  {
   "cell_type": "code",
   "execution_count": null,
   "metadata": {},
   "outputs": [],
   "source": []
  }
 ],
 "metadata": {
  "kernelspec": {
   "display_name": "Python 3",
   "language": "python",
   "name": "python3"
  },
  "language_info": {
   "codemirror_mode": {
    "name": "ipython",
    "version": 3
   },
   "file_extension": ".py",
   "mimetype": "text/x-python",
   "name": "python",
   "nbconvert_exporter": "python",
   "pygments_lexer": "ipython3",
   "version": "3.8.3"
  }
 },
 "nbformat": 4,
 "nbformat_minor": 4
}
