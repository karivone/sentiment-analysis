{
 "cells": [
  {
   "cell_type": "code",
   "execution_count": null,
   "metadata": {},
   "outputs": [],
   "source": []
  },
  {
   "cell_type": "code",
   "execution_count": 1,
   "metadata": {},
   "outputs": [
    {
     "name": "stdout",
     "output_type": "stream",
     "text": [
      "importing Jupyter notebook from twitter_credentials.ipynb\n"
     ]
    }
   ],
   "source": [
    "import import_ipynb\n",
    "import twitter_credentials"
   ]
  },
  {
   "cell_type": "code",
   "execution_count": 3,
   "metadata": {},
   "outputs": [
    {
     "name": "stdout",
     "output_type": "stream",
     "text": [
      "[Status(_api=<tweepy.api.API object at 0x000002455A74FA00>, _json={'created_at': 'Wed Aug 19 17:45:06 +0000 2020', 'id': 1296141152215801859, 'id_str': '1296141152215801859', 'text': 'After losing the chance to meet in person this year, the PyCon team has been trying our best to patch up broken hea… https://t.co/0j8iS4YP3w', 'truncated': True, 'entities': {'hashtags': [], 'symbols': [], 'user_mentions': [], 'urls': [{'url': 'https://t.co/0j8iS4YP3w', 'expanded_url': 'https://twitter.com/i/web/status/1296141152215801859', 'display_url': 'twitter.com/i/web/status/1…', 'indices': [117, 140]}]}, 'source': '<a href=\"https://sproutsocial.com\" rel=\"nofollow\">Sprout Social</a>', 'in_reply_to_status_id': None, 'in_reply_to_status_id_str': None, 'in_reply_to_user_id': None, 'in_reply_to_user_id_str': None, 'in_reply_to_screen_name': None, 'user': {'id': 9475182, 'id_str': '9475182', 'name': 'PyCon US', 'screen_name': 'pycon', 'location': 'Pittsburgh, PA', 'description': 'PyCon US 2020', 'url': 'https://t.co/cDA7VmP4hV', 'entities': {'url': {'urls': [{'url': 'https://t.co/cDA7VmP4hV', 'expanded_url': 'http://us.pycon.org', 'display_url': 'us.pycon.org', 'indices': [0, 23]}]}, 'description': {'urls': []}}, 'protected': False, 'followers_count': 50771, 'friends_count': 5, 'listed_count': 1048, 'created_at': 'Tue Oct 16 11:17:41 +0000 2007', 'favourites_count': 1116, 'utc_offset': None, 'time_zone': None, 'geo_enabled': False, 'verified': False, 'statuses_count': 4103, 'lang': None, 'contributors_enabled': False, 'is_translator': False, 'is_translation_enabled': False, 'profile_background_color': '131516', 'profile_background_image_url': 'http://abs.twimg.com/images/themes/theme14/bg.gif', 'profile_background_image_url_https': 'https://abs.twimg.com/images/themes/theme14/bg.gif', 'profile_background_tile': True, 'profile_image_url': 'http://pbs.twimg.com/profile_images/1247613205674934275/fm--_jZ__normal.jpg', 'profile_image_url_https': 'https://pbs.twimg.com/profile_images/1247613205674934275/fm--_jZ__normal.jpg', 'profile_banner_url': 'https://pbs.twimg.com/profile_banners/9475182/1586290538', 'profile_link_color': '009CBD', 'profile_sidebar_border_color': 'FFFFFF', 'profile_sidebar_fill_color': 'DDEEF6', 'profile_text_color': '333333', 'profile_use_background_image': False, 'has_extended_profile': False, 'default_profile': False, 'default_profile_image': False, 'following': False, 'follow_request_sent': False, 'notifications': False, 'translator_type': 'none'}, 'geo': None, 'coordinates': None, 'place': None, 'contributors': None, 'is_quote_status': False, 'retweet_count': 17, 'favorite_count': 111, 'favorited': False, 'retweeted': False, 'possibly_sensitive': False, 'lang': 'en'}, created_at=datetime.datetime(2020, 8, 19, 17, 45, 6), id=1296141152215801859, id_str='1296141152215801859', text='After losing the chance to meet in person this year, the PyCon team has been trying our best to patch up broken hea… https://t.co/0j8iS4YP3w', truncated=True, entities={'hashtags': [], 'symbols': [], 'user_mentions': [], 'urls': [{'url': 'https://t.co/0j8iS4YP3w', 'expanded_url': 'https://twitter.com/i/web/status/1296141152215801859', 'display_url': 'twitter.com/i/web/status/1…', 'indices': [117, 140]}]}, source='Sprout Social', source_url='https://sproutsocial.com', in_reply_to_status_id=None, in_reply_to_status_id_str=None, in_reply_to_user_id=None, in_reply_to_user_id_str=None, in_reply_to_screen_name=None, author=User(_api=<tweepy.api.API object at 0x000002455A74FA00>, _json={'id': 9475182, 'id_str': '9475182', 'name': 'PyCon US', 'screen_name': 'pycon', 'location': 'Pittsburgh, PA', 'description': 'PyCon US 2020', 'url': 'https://t.co/cDA7VmP4hV', 'entities': {'url': {'urls': [{'url': 'https://t.co/cDA7VmP4hV', 'expanded_url': 'http://us.pycon.org', 'display_url': 'us.pycon.org', 'indices': [0, 23]}]}, 'description': {'urls': []}}, 'protected': False, 'followers_count': 50771, 'friends_count': 5, 'listed_count': 1048, 'created_at': 'Tue Oct 16 11:17:41 +0000 2007', 'favourites_count': 1116, 'utc_offset': None, 'time_zone': None, 'geo_enabled': False, 'verified': False, 'statuses_count': 4103, 'lang': None, 'contributors_enabled': False, 'is_translator': False, 'is_translation_enabled': False, 'profile_background_color': '131516', 'profile_background_image_url': 'http://abs.twimg.com/images/themes/theme14/bg.gif', 'profile_background_image_url_https': 'https://abs.twimg.com/images/themes/theme14/bg.gif', 'profile_background_tile': True, 'profile_image_url': 'http://pbs.twimg.com/profile_images/1247613205674934275/fm--_jZ__normal.jpg', 'profile_image_url_https': 'https://pbs.twimg.com/profile_images/1247613205674934275/fm--_jZ__normal.jpg', 'profile_banner_url': 'https://pbs.twimg.com/profile_banners/9475182/1586290538', 'profile_link_color': '009CBD', 'profile_sidebar_border_color': 'FFFFFF', 'profile_sidebar_fill_color': 'DDEEF6', 'profile_text_color': '333333', 'profile_use_background_image': False, 'has_extended_profile': False, 'default_profile': False, 'default_profile_image': False, 'following': False, 'follow_request_sent': False, 'notifications': False, 'translator_type': 'none'}, id=9475182, id_str='9475182', name='PyCon US', screen_name='pycon', location='Pittsburgh, PA', description='PyCon US 2020', url='https://t.co/cDA7VmP4hV', entities={'url': {'urls': [{'url': 'https://t.co/cDA7VmP4hV', 'expanded_url': 'http://us.pycon.org', 'display_url': 'us.pycon.org', 'indices': [0, 23]}]}, 'description': {'urls': []}}, protected=False, followers_count=50771, friends_count=5, listed_count=1048, created_at=datetime.datetime(2007, 10, 16, 11, 17, 41), favourites_count=1116, utc_offset=None, time_zone=None, geo_enabled=False, verified=False, statuses_count=4103, lang=None, contributors_enabled=False, is_translator=False, is_translation_enabled=False, profile_background_color='131516', profile_background_image_url='http://abs.twimg.com/images/themes/theme14/bg.gif', profile_background_image_url_https='https://abs.twimg.com/images/themes/theme14/bg.gif', profile_background_tile=True, profile_image_url='http://pbs.twimg.com/profile_images/1247613205674934275/fm--_jZ__normal.jpg', profile_image_url_https='https://pbs.twimg.com/profile_images/1247613205674934275/fm--_jZ__normal.jpg', profile_banner_url='https://pbs.twimg.com/profile_banners/9475182/1586290538', profile_link_color='009CBD', profile_sidebar_border_color='FFFFFF', profile_sidebar_fill_color='DDEEF6', profile_text_color='333333', profile_use_background_image=False, has_extended_profile=False, default_profile=False, default_profile_image=False, following=False, follow_request_sent=False, notifications=False, translator_type='none'), user=User(_api=<tweepy.api.API object at 0x000002455A74FA00>, _json={'id': 9475182, 'id_str': '9475182', 'name': 'PyCon US', 'screen_name': 'pycon', 'location': 'Pittsburgh, PA', 'description': 'PyCon US 2020', 'url': 'https://t.co/cDA7VmP4hV', 'entities': {'url': {'urls': [{'url': 'https://t.co/cDA7VmP4hV', 'expanded_url': 'http://us.pycon.org', 'display_url': 'us.pycon.org', 'indices': [0, 23]}]}, 'description': {'urls': []}}, 'protected': False, 'followers_count': 50771, 'friends_count': 5, 'listed_count': 1048, 'created_at': 'Tue Oct 16 11:17:41 +0000 2007', 'favourites_count': 1116, 'utc_offset': None, 'time_zone': None, 'geo_enabled': False, 'verified': False, 'statuses_count': 4103, 'lang': None, 'contributors_enabled': False, 'is_translator': False, 'is_translation_enabled': False, 'profile_background_color': '131516', 'profile_background_image_url': 'http://abs.twimg.com/images/themes/theme14/bg.gif', 'profile_background_image_url_https': 'https://abs.twimg.com/images/themes/theme14/bg.gif', 'profile_background_tile': True, 'profile_image_url': 'http://pbs.twimg.com/profile_images/1247613205674934275/fm--_jZ__normal.jpg', 'profile_image_url_https': 'https://pbs.twimg.com/profile_images/1247613205674934275/fm--_jZ__normal.jpg', 'profile_banner_url': 'https://pbs.twimg.com/profile_banners/9475182/1586290538', 'profile_link_color': '009CBD', 'profile_sidebar_border_color': 'FFFFFF', 'profile_sidebar_fill_color': 'DDEEF6', 'profile_text_color': '333333', 'profile_use_background_image': False, 'has_extended_profile': False, 'default_profile': False, 'default_profile_image': False, 'following': False, 'follow_request_sent': False, 'notifications': False, 'translator_type': 'none'}, id=9475182, id_str='9475182', name='PyCon US', screen_name='pycon', location='Pittsburgh, PA', description='PyCon US 2020', url='https://t.co/cDA7VmP4hV', entities={'url': {'urls': [{'url': 'https://t.co/cDA7VmP4hV', 'expanded_url': 'http://us.pycon.org', 'display_url': 'us.pycon.org', 'indices': [0, 23]}]}, 'description': {'urls': []}}, protected=False, followers_count=50771, friends_count=5, listed_count=1048, created_at=datetime.datetime(2007, 10, 16, 11, 17, 41), favourites_count=1116, utc_offset=None, time_zone=None, geo_enabled=False, verified=False, statuses_count=4103, lang=None, contributors_enabled=False, is_translator=False, is_translation_enabled=False, profile_background_color='131516', profile_background_image_url='http://abs.twimg.com/images/themes/theme14/bg.gif', profile_background_image_url_https='https://abs.twimg.com/images/themes/theme14/bg.gif', profile_background_tile=True, profile_image_url='http://pbs.twimg.com/profile_images/1247613205674934275/fm--_jZ__normal.jpg', profile_image_url_https='https://pbs.twimg.com/profile_images/1247613205674934275/fm--_jZ__normal.jpg', profile_banner_url='https://pbs.twimg.com/profile_banners/9475182/1586290538', profile_link_color='009CBD', profile_sidebar_border_color='FFFFFF', profile_sidebar_fill_color='DDEEF6', profile_text_color='333333', profile_use_background_image=False, has_extended_profile=False, default_profile=False, default_profile_image=False, following=False, follow_request_sent=False, notifications=False, translator_type='none'), geo=None, coordinates=None, place=None, contributors=None, is_quote_status=False, retweet_count=17, favorite_count=111, favorited=False, retweeted=False, possibly_sensitive=False, lang='en')]\n"
     ]
    }
   ],
   "source": [
    "from tweepy import API \n",
    "from tweepy import Cursor\n",
    "from tweepy.streaming import StreamListener\n",
    "from tweepy import OAuthHandler\n",
    "from tweepy import Stream\n",
    " \n",
    "import twitter_credentials\n",
    "\n",
    "# # # # TWITTER CLIENT # # # #\n",
    "class TwitterClient():\n",
    "    def __init__(self, twitter_user=None):\n",
    "        self.auth = TwitterAuthenticator().authenticate_twitter_app()\n",
    "        self.twitter_client = API(self.auth)\n",
    "\n",
    "        self.twitter_user = twitter_user\n",
    "\n",
    "    def get_user_timeline_tweets(self, num_tweets):\n",
    "        tweets = []\n",
    "        for tweet in Cursor(self.twitter_client.user_timeline, id=self.twitter_user).items(num_tweets):\n",
    "            tweets.append(tweet)\n",
    "        return tweets\n",
    "\n",
    "    def get_friend_list(self, num_friends):\n",
    "        friend_list = []\n",
    "        for friend in Cursor(self.twitter_client.friends, id=self.twitter_user).items(num_friends):\n",
    "            friend_list.append(friend)\n",
    "        return friend_list\n",
    "\n",
    "    def get_home_timeline_tweets(self, num_tweets):\n",
    "        home_timeline_tweets = []\n",
    "        for tweet in Cursor(self.twitter_client.home_timeline, id=self.twitter_user).items(num_tweets):\n",
    "            home_timeline_tweets.append(tweet)\n",
    "        return home_timeline_tweets\n",
    "\n",
    "\n",
    "# # # # TWITTER AUTHENTICATER # # # #\n",
    "class TwitterAuthenticator():\n",
    "\n",
    "    def authenticate_twitter_app(self):\n",
    "        auth = OAuthHandler(twitter_credentials.CONSUMER_KEY, twitter_credentials.CONSUMER_SECRETS)\n",
    "        auth.set_access_token(twitter_credentials.ACCESS_TOKEN, twitter_credentials.ACCESS_TOKEN_SECRET)\n",
    "        return auth\n",
    "\n",
    "# # # # TWITTER STREAMER # # # #\n",
    "class TwitterStreamer():\n",
    "    \"\"\"\n",
    "    Class for streaming and processing live tweets.\n",
    "    \"\"\"\n",
    "    def __init__(self):\n",
    "        self.twitter_autenticator = TwitterAuthenticator()    \n",
    "\n",
    "    def stream_tweets(self, fetched_tweets_filename, hash_tag_list):\n",
    "        # This handles Twitter authetification and the connection to Twitter Streaming API\n",
    "        listener = TwitterListener(fetched_tweets_filename)\n",
    "        auth = self.twitter_autenticator.authenticate_twitter_app() \n",
    "        stream = Stream(auth, listener)\n",
    "\n",
    "        # This line filter Twitter Streams to capture data by the keywords: \n",
    "        stream.filter(track=hash_tag_list)\n",
    "\n",
    "\n",
    "# # # # TWITTER STREAM LISTENER # # # #\n",
    "class TwitterListener(StreamListener):\n",
    "    \"\"\"\n",
    "    This is a basic listener that just prints received tweets to stdout.\n",
    "    \"\"\"\n",
    "    def __init__(self, fetched_tweets_filename):\n",
    "        self.fetched_tweets_filename = fetched_tweets_filename\n",
    "\n",
    "    def on_data(self, data):\n",
    "        try:\n",
    "            print(data)\n",
    "            with open(self.fetched_tweets_filename, 'a') as tf:\n",
    "                tf.write(data)\n",
    "            return True\n",
    "        except BaseException as e:\n",
    "            print(\"Error on_data %s\" % str(e))\n",
    "        return True\n",
    "          \n",
    "    def on_error(self, status):\n",
    "        if status == 420:\n",
    "            # Returning False on_data method in case rate limit occurs.\n",
    "            return False\n",
    "        print(status)\n",
    "\n",
    " \n",
    "if __name__ == '__main__':\n",
    " \n",
    "    # Authenticate using config.py and connect to Twitter Streaming API.\n",
    "    hash_tag_list = [\"donal trump\", \"hillary clinton\", \"barack obama\", \"bernie sanders\"]\n",
    "    fetched_tweets_filename = \"tweets.txt\"\n",
    "\n",
    "    twitter_client = TwitterClient('pycon')\n",
    "    print(twitter_client.get_user_timeline_tweets(1))\n",
    "\n",
    "#    twitter_streamer = TwitterStreamer()\n",
    "#    twitter_streamer.stream_tweets(fetched_tweets_filename, hash_tag_list)"
   ]
  },
  {
   "cell_type": "code",
   "execution_count": null,
   "metadata": {},
   "outputs": [],
   "source": []
  }
 ],
 "metadata": {
  "kernelspec": {
   "display_name": "Python 3",
   "language": "python",
   "name": "python3"
  },
  "language_info": {
   "codemirror_mode": {
    "name": "ipython",
    "version": 3
   },
   "file_extension": ".py",
   "mimetype": "text/x-python",
   "name": "python",
   "nbconvert_exporter": "python",
   "pygments_lexer": "ipython3",
   "version": "3.8.3"
  }
 },
 "nbformat": 4,
 "nbformat_minor": 4
}
